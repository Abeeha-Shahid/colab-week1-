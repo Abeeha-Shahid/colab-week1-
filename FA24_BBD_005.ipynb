{
  "nbformat": 4,
  "nbformat_minor": 0,
  "metadata": {
    "colab": {
      "provenance": []
    },
    "kernelspec": {
      "name": "python3",
      "display_name": "Python 3"
    },
    "language_info": {
      "name": "python"
    }
  },
  "cells": [
    {
      "cell_type": "code",
      "execution_count": 1,
      "metadata": {
        "id": "zUAm-ILX5wBO"
      },
      "outputs": [],
      "source": [
        "#FA24-BBD-005\n",
        "#Activity  Goal: Practice different techniques for dealing with missing data.\n",
        "import pandas as pd\n",
        "import numpy as np"
      ]
    },
    {
      "cell_type": "code",
      "source": [
        "#1.\tIdentify columns with more than 20% missing values and drop them.\n",
        "df = pd.read_csv(\"melb_data_week1.csv\")\n",
        "missing_person = df.isna().sum()\n",
        "\n",
        "missing_percentage = (missing_person / len(df)) * 100\n",
        "\n",
        "columns_to_drop = missing_percentage[missing_percentage > 20].index\n",
        "print(columns_to_drop)"
      ],
      "metadata": {
        "colab": {
          "base_uri": "https://localhost:8080/"
        },
        "id": "BqmDhSLoKbAq",
        "outputId": "848fe7e6-4b83-4037-c4c8-7bba0f3d82e3"
      },
      "execution_count": 2,
      "outputs": [
        {
          "output_type": "stream",
          "name": "stdout",
          "text": [
            "Index(['BuildingArea', 'YearBuilt'], dtype='object')\n"
          ]
        }
      ]
    },
    {
      "cell_type": "code",
      "source": [
        "#Activity Goal: Use filtering and indexing techniques to extract meaningful data subsets.\n",
        "#1\n",
        "richmond_houses = df[(df[\"Suburb\"] == \"Richmond\") & (df[\"Price\"] > 1000000)]\n",
        "print(richmond_houses.head())\n",
        "#2\n",
        "df_filtered = df.loc[df[\"Landsize\"] > 500, [\"Price\", \"Suburb\", \"BuildingArea\"]]\n",
        "print(df_filtered.head())\n",
        "#3\n",
        "df_sorted = df.sort_values(by=\"Price\", ascending=False)\n",
        "print(df_sorted.head(5))\n",
        ""
      ],
      "metadata": {
        "colab": {
          "base_uri": "https://localhost:8080/"
        },
        "id": "iqJI6Ja2Kgtt",
        "outputId": "da051b4e-2822-40e3-fd0f-569b6c2e4ab2"
      },
      "execution_count": 3,
      "outputs": [
        {
          "output_type": "stream",
          "name": "stdout",
          "text": [
            "        Suburb          Address  Rooms Type      Price Method        SellerG  \\\n",
            "5257  Richmond       81 Erin St      3    h  1260000.0      S         Biggin   \n",
            "5258  Richmond  52 Lyndhurst St      3    t  1236000.0      S         Jellis   \n",
            "5263  Richmond        7 Bank St      3    h  1600000.0      S  hockingstuart   \n",
            "5264  Richmond      29 Bowen St      3    h  2180000.0     PI           Blue   \n",
            "5266  Richmond      131 Lord St      4    h  3335000.0      S         Jellis   \n",
            "\n",
            "           Date  Distance  Postcode  ...  Bathroom  Car  Landsize  \\\n",
            "5257  3/09/2016       2.6    3121.0  ...       1.0  0.0     203.0   \n",
            "5258  3/09/2016       2.6    3121.0  ...       2.0  1.0     675.0   \n",
            "5263  3/12/2016       2.6    3121.0  ...       2.0  1.0     115.0   \n",
            "5264  3/12/2016       2.6    3121.0  ...       2.0  2.0     345.0   \n",
            "5266  3/12/2016       2.6    3121.0  ...       2.0  2.0     319.0   \n",
            "\n",
            "      BuildingArea  YearBuilt  CouncilArea Lattitude  Longtitude  \\\n",
            "5257          81.0     1900.0        Yarra  -37.8166    144.9945   \n",
            "5258           NaN        NaN        Yarra  -37.8206    145.0003   \n",
            "5263           NaN        NaN        Yarra  -37.8163    144.9984   \n",
            "5264           NaN        NaN        Yarra  -37.8159    144.9940   \n",
            "5266           NaN     1893.0        Yarra  -37.8244    145.0044   \n",
            "\n",
            "                 Regionname Propertycount  \n",
            "5257  Northern Metropolitan       14949.0  \n",
            "5258  Northern Metropolitan       14949.0  \n",
            "5263  Northern Metropolitan       14949.0  \n",
            "5264  Northern Metropolitan       14949.0  \n",
            "5266  Northern Metropolitan       14949.0  \n",
            "\n",
            "[5 rows x 21 columns]\n",
            "        Price        Suburb  BuildingArea\n",
            "20  1330000.0    Abbotsford         135.0\n",
            "22  1090000.0    Abbotsford          27.0\n",
            "45   720000.0  Airport West           NaN\n",
            "46   785000.0  Airport West         127.0\n",
            "47   725000.0  Airport West         186.0\n",
            "            Suburb         Address  Rooms Type      Price Method  \\\n",
            "12094     Mulgrave     35 Bevis St      3    h  9000000.0     PI   \n",
            "7692    Canterbury  49 Mangarra Rd      5    h  8000000.0     VB   \n",
            "9575      Hawthorn    49 Lisson Gr      4    h  7650000.0      S   \n",
            "3616           Kew     15 Barry St      6    h  6500000.0      S   \n",
            "12557  Middle Park     136 Page St      5    h  6400000.0      S   \n",
            "\n",
            "            SellerG        Date  Distance  Postcode  ...  Bathroom  Car  \\\n",
            "12094          Hall  29/07/2017      18.8    3170.0  ...       1.0  1.0   \n",
            "7692      Sotheby's  13/05/2017       9.0    3126.0  ...       5.0  4.0   \n",
            "9575   Abercromby's  17/06/2017       5.3    3122.0  ...       2.0  4.0   \n",
            "3616         Jellis  13/08/2016       5.6    3101.0  ...       6.0  3.0   \n",
            "12557      Marshall   9/09/2017       3.0    3206.0  ...       2.0  1.0   \n",
            "\n",
            "       Landsize  BuildingArea  YearBuilt  CouncilArea Lattitude  Longtitude  \\\n",
            "12094     744.0         117.0     1960.0       Monash -37.93168   145.16126   \n",
            "7692     2079.0         464.3     1880.0   Boroondara -37.81790   145.06940   \n",
            "9575     1690.0         284.0     1863.0   Boroondara -37.82652   145.03052   \n",
            "3616     1334.0         365.0     1890.0   Boroondara -37.80290   145.02670   \n",
            "12557     553.0         308.0     1920.0          NaN -37.84908   144.95753   \n",
            "\n",
            "                       Regionname Propertycount  \n",
            "12094  South-Eastern Metropolitan        7113.0  \n",
            "7692        Southern Metropolitan        3265.0  \n",
            "9575        Southern Metropolitan       11308.0  \n",
            "3616        Southern Metropolitan       10331.0  \n",
            "12557       Southern Metropolitan        2019.0  \n",
            "\n",
            "[5 rows x 21 columns]\n"
          ]
        }
      ]
    },
    {
      "cell_type": "code",
      "source": [
        "#Activity Goal: Apply transformation techniques to create new insights from the data.\n",
        "#1\n",
        "df[\"Price_per_Room\"] = df[\"Price\"] / df[\"Rooms\"]\n",
        "print(df[[\"Price\", \"Rooms\", \"Price_per_Room\"]].head())\n",
        "#2\n",
        "df[\"Date\"] = pd.to_datetime(df[\"Date\"],format='mixed')\n",
        "print(df[\"Date\"].head(4))\n",
        "#3\n",
        "df[\"Year_Sold\"] = df[\"Date\"].dt.year\n",
        "print(df[[\"Date\", \"Year_Sold\"]].head())"
      ],
      "metadata": {
        "colab": {
          "base_uri": "https://localhost:8080/"
        },
        "id": "rJxEnrPoKrfu",
        "outputId": "433f76a4-a6c6-448c-e64d-2ca2c78fd509"
      },
      "execution_count": 4,
      "outputs": [
        {
          "output_type": "stream",
          "name": "stdout",
          "text": [
            "       Price  Rooms  Price_per_Room\n",
            "0  1480000.0      2   740000.000000\n",
            "1  1035000.0      2   517500.000000\n",
            "2  1465000.0      3   488333.333333\n",
            "3   850000.0      3   283333.333333\n",
            "4  1600000.0      4   400000.000000\n",
            "0   2016-03-12\n",
            "1   2016-04-02\n",
            "2   2017-04-03\n",
            "3   2017-04-03\n",
            "Name: Date, dtype: datetime64[ns]\n",
            "        Date  Year_Sold\n",
            "0 2016-03-12       2016\n",
            "1 2016-04-02       2016\n",
            "2 2017-04-03       2017\n",
            "3 2017-04-03       2017\n",
            "4 2016-04-06       2016\n"
          ]
        }
      ]
    },
    {
      "cell_type": "code",
      "source": [
        "#4\n",
        "#Activity Goal: Learn how to group and aggregate data for analysis.\n",
        "#1\n",
        "\n",
        "suburb_avg_price = df.groupby(\"Suburb\")[\"Price\"].mean()\n",
        "print(suburb_avg_price)\n",
        "properties_per_suburb = df.groupby(\"Suburb\")[\"Price\"].count()\n",
        "print(properties_per_suburb)\n",
        "most_expensive_suburb = suburb_avg_price.idxmax()\n",
        "print(\"Most expensive suburb:\", most_expensive_suburb)"
      ],
      "metadata": {
        "colab": {
          "base_uri": "https://localhost:8080/"
        },
        "id": "3m3FtFIsKx6Y",
        "outputId": "4c53f316-6cd1-4514-c99b-5bb761b0ba87"
      },
      "execution_count": 5,
      "outputs": [
        {
          "output_type": "stream",
          "name": "stdout",
          "text": [
            "Suburb\n",
            "Abbotsford      1.060366e+06\n",
            "Aberfeldie      1.277455e+06\n",
            "Airport West    7.566567e+05\n",
            "Albanvale       5.370833e+05\n",
            "Albert Park     1.941355e+06\n",
            "                    ...     \n",
            "Wonga Park      9.000000e+05\n",
            "Wyndham Vale    4.832500e+05\n",
            "Yallambie       8.396875e+05\n",
            "Yarra Glen      6.200000e+05\n",
            "Yarraville      9.886155e+05\n",
            "Name: Price, Length: 314, dtype: float64\n",
            "Suburb\n",
            "Abbotsford       56\n",
            "Aberfeldie       44\n",
            "Airport West     67\n",
            "Albanvale         6\n",
            "Albert Park      69\n",
            "               ... \n",
            "Wonga Park        1\n",
            "Wyndham Vale      4\n",
            "Yallambie        24\n",
            "Yarra Glen        1\n",
            "Yarraville      164\n",
            "Name: Price, Length: 314, dtype: int64\n",
            "Most expensive suburb: Kooyong\n"
          ]
        }
      ]
    },
    {
      "cell_type": "code",
      "source": [
        "#5\n",
        "#1.\tSave the cleaned dataset into a new CSV file.\n",
        "df.to_csv(\"cleaned_melb_data.csv\", index=False)"
      ],
      "metadata": {
        "id": "kac1lNt5K-yK"
      },
      "execution_count": 6,
      "outputs": []
    },
    {
      "cell_type": "code",
      "source": [
        "#5\n",
        "#Bonus Challenge (For Advanced Students)\n",
        "median_price = df[\"Price\"].median()\n",
        "df[\"Category\"] = df[\"Price\"].apply(lambda x: \"Expensive\" if x > median_price else \"Affordable\")\n",
        "print(df[[\"Price\", \"Category\"]].head())\n",
        "correlation = df[\"Price\"].corr(df[\"Rooms\"])\n",
        "print(\"Correlation between Price and Rooms:\", correlation)"
      ],
      "metadata": {
        "colab": {
          "base_uri": "https://localhost:8080/"
        },
        "id": "6tqGKvUTLHZl",
        "outputId": "f5d4e6d5-84aa-4da7-cdd8-c69fdfbf1041"
      },
      "execution_count": 7,
      "outputs": [
        {
          "output_type": "stream",
          "name": "stdout",
          "text": [
            "       Price    Category\n",
            "0  1480000.0   Expensive\n",
            "1  1035000.0   Expensive\n",
            "2  1465000.0   Expensive\n",
            "3   850000.0  Affordable\n",
            "4  1600000.0   Expensive\n",
            "Correlation between Price and Rooms: 0.4966336761865308\n"
          ]
        }
      ]
    },
    {
      "cell_type": "code",
      "source": [],
      "metadata": {
        "id": "NsmaFT2fLIsq"
      },
      "execution_count": null,
      "outputs": []
    }
  ]
}